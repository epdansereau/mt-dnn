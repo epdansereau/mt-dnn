{
 "cells": [
  {
   "cell_type": "code",
   "execution_count": 1,
   "metadata": {},
   "outputs": [],
   "source": [
    "# # Test GPU:\n",
    "# import torch\n",
    "# torch.cuda.current_device()\n",
    "# torch.cuda.device(0)\n",
    "# torch.cuda.device_count()\n",
    "# torch.cuda.get_device_name(0)"
   ]
  },
  {
   "cell_type": "code",
   "execution_count": 1,
   "metadata": {},
   "outputs": [
    {
     "name": "stdout",
     "output_type": "stream",
     "text": [
      "[Errno 2] No such file or directory: 'mt-dnn'\n",
      "/home/jupyter/mt-dnn\n",
      "config\t    download.sh  mt_dnn_models\trequirements.txt  train.py\n",
      "data\t    LICENSE\t prepro.py\trun_toy.sh\n",
      "data_utils  module\t project.ipynb\tscripts\n",
      "docker\t    mt_dnn\t README.md\tTEST.txt\n"
     ]
    }
   ],
   "source": [
    "%cd mt-dnn\n",
    "!ls"
   ]
  },
  {
   "cell_type": "code",
   "execution_count": 20,
   "metadata": {},
   "outputs": [
    {
     "name": "stdout",
     "output_type": "stream",
     "text": [
      "Better speed can be achieved with apex installed from https://www.github.com/nvidia/apex.\n",
      "05/18/2019 07:37:00 Loaded 23596 SciTail train samples\n",
      "05/18/2019 07:37:00 Loaded 1304 SciTail dev samples\n",
      "05/18/2019 07:37:00 Loaded 2126 SciTail test samples\n",
      "05/18/2019 07:37:01 Loaded 549367 SNLI train samples\n",
      "05/18/2019 07:37:01 Loaded 9842 SNLI dev samples\n",
      "05/18/2019 07:37:01 Loaded 9824 SNLI test samples\n",
      "05/18/2019 07:37:03 Loaded 392702 MNLI train samples\n",
      "05/18/2019 07:37:03 Loaded 9815 MNLI matched dev samples\n",
      "05/18/2019 07:37:03 Loaded 9832 MNLI mismatched dev samples\n",
      "05/18/2019 07:37:03 Loaded 9796 MNLI matched test samples\n",
      "05/18/2019 07:37:03 Loaded 9847 MNLI mismatched test samples\n",
      "05/18/2019 07:37:03 Loaded 3668 MRPC train samples\n",
      "05/18/2019 07:37:03 Loaded 408 MRPC dev samples\n",
      "05/18/2019 07:37:03 Loaded 1725 MRPC test samples\n",
      "05/18/2019 07:37:03 Loaded 104743 QNLI train samples\n",
      "05/18/2019 07:37:03 Loaded 5463 QNLI dev samples\n",
      "05/18/2019 07:37:03 Loaded 5463 QNLI test samples\n",
      "Traceback (most recent call last):\n",
      "  File \"prepro.py\", line 352, in <module>\n",
      "    main(args)\n",
      "  File \"prepro.py\", line 193, in main\n",
      "    qnnli_train_data = load_qnnli(qnli_train_path, GLOBAL_MAP['qnli'])\n",
      "  File \"/home/jupyter/mt-dnn/data_utils/glue_utils.py\", line 112, in load_qnnli\n",
      "    assert len(lines) % 2 == 0\n",
      "AssertionError\n"
     ]
    }
   ],
   "source": [
    "!python prepro.py"
   ]
  },
  {
   "cell_type": "code",
   "execution_count": 11,
   "metadata": {},
   "outputs": [
    {
     "name": "stdout",
     "output_type": "stream",
     "text": [
      "scripts/run_mt_dnn.sh: 2: scripts/run_mt_dnn.sh: [[: not found\n",
      "export CUDA_VISIBLE_DEVICES=0\n",
      "Better speed can be achieved with apex installed from https://www.github.com/nvidia/apex.\n",
      "Namespace(answer_att_hidden_size=128, answer_att_type='bilinear', answer_dropout_p=0.1, answer_mem_drop_p=0.1, answer_mem_type=1, answer_merge_opt=1, answer_num_turn=5, answer_opt=1, answer_rnn_type='gru', answer_sum_att_type='bilinear', answer_weight_norm_on=False, batch_size=32, batch_size_eval=8, bert_dropout_p=0.1, bert_l2norm=0.0, cuda=True, data_dir='../data/mt_dnn', data_sort_on=False, dropout_p=0.1, dropout_w=0.0, dump_state_on=False, ema_gamma=0.995, ema_opt=0, embedding_opt=0, epochs=5, freeze_layers=-1, global_grad_clipping=1.0, grad_clipping=0.0, have_lr_scheduler=True, init_checkpoint='../mt_dnn_models/bert_model_large.pt', init_ratio=1, label_size='3', learning_rate=5e-05, log_file='checkpoints/mt-dnn-rte_adamax_answer_opt1_gc0_ggc1_2019-05-18T0717/log.log', log_per_updates=500, lr_gamma=0.5, max_seq_len=512, mem_cum_type='simple', mix_opt=0, momentum=0, mtl_opt=0, multi_gpu_on=True, multi_step_lr='10,20,30', name='farmer', optimizer='adamax', output_dir='checkpoints/mt-dnn-rte_adamax_answer_opt1_gc0_ggc1_2019-05-18T0717', pw_tasks=['qnnli'], ratio=0, scheduler_type='ms', seed=2018, task_config_path='configs/tasks_config.json', test_datasets=['mnli_matched', 'mnli_mismatched', 'rte'], train_datasets=['mnli', 'rte', 'qqp', 'qnli', 'mrpc', 'sst', 'cola', 'stsb'], update_bert_opt=0, vb_dropout=True, warmup=0.1, warmup_schedule='warmup_linear', weight_decay=0)\n",
      "05/18/2019 07:17:19 1\n",
      "05/18/2019 07:17:19 Launching the MT-DNN training\n",
      "05/18/2019 07:17:19 Loading ../data/mt_dnn/mnli_train.json as task 0\n",
      "Traceback (most recent call last):\n",
      "  File \"train.py\", line 353, in <module>\n",
      "    main()\n",
      "  File \"train.py\", line 181, in main\n",
      "    train_data = BatchGen(BatchGen.load(train_path, True, pairwise=pw_task, maxlen=args.max_seq_len),\n",
      "  File \"/home/jupyter/mt-dnn/mt_dnn/batcher.py\", line 52, in load\n",
      "    with open(path, 'r', encoding='utf-8') as reader:\n",
      "FileNotFoundError: [Errno 2] No such file or directory: '../data/mt_dnn/mnli_train.json'\n"
     ]
    }
   ],
   "source": [
    "!sh scripts/run_mt_dnn.sh 32 0"
   ]
  },
  {
   "cell_type": "code",
   "execution_count": 9,
   "metadata": {},
   "outputs": [
    {
     "name": "stdout",
     "output_type": "stream",
     "text": [
      "scripts/run_stsb.sh: 2: scripts/run_stsb.sh: [[: not found\n",
      "export CUDA_VISIBLE_DEVICES=0\n",
      "Better speed can be achieved with apex installed from https://www.github.com/nvidia/apex.\n",
      "Namespace(answer_att_hidden_size=128, answer_att_type='bilinear', answer_dropout_p=0.1, answer_mem_drop_p=0.1, answer_mem_type=1, answer_merge_opt=1, answer_num_turn=5, answer_opt=0, answer_rnn_type='gru', answer_sum_att_type='bilinear', answer_weight_norm_on=False, batch_size=32, batch_size_eval=8, bert_dropout_p=0.1, bert_l2norm=0.0, cuda=True, data_dir='../data/mt_dnn', data_sort_on=False, dropout_p=0.1, dropout_w=0.0, dump_state_on=False, ema_gamma=0.995, ema_opt=0, embedding_opt=0, epochs=5, freeze_layers=-1, global_grad_clipping=1.0, grad_clipping=0.0, have_lr_scheduler=True, init_checkpoint='../mt_dnn_models/mt_dnn_large.pt', init_ratio=1, label_size='3', learning_rate=5e-05, log_file='checkpoints/mt-dnn-stsb_adamax_answer_opt0_gc0_ggc1_2019-05-18T0650/log.log', log_per_updates=500, lr_gamma=0.5, max_seq_len=512, mem_cum_type='simple', mix_opt=0, momentum=0, mtl_opt=0, multi_gpu_on=False, multi_step_lr='10,20,30', name='farmer', optimizer='adamax', output_dir='checkpoints/mt-dnn-stsb_adamax_answer_opt0_gc0_ggc1_2019-05-18T0650', pw_tasks=['qnnli'], ratio=0, scheduler_type='ms', seed=2018, task_config_path='configs/tasks_config.json', test_datasets=['stsb'], train_datasets=['stsb'], update_bert_opt=0, vb_dropout=True, warmup=0.1, warmup_schedule='warmup_linear', weight_decay=0)\n",
      "05/18/2019 06:50:52 0\n",
      "05/18/2019 06:50:52 Launching the MT-DNN training\n",
      "05/18/2019 06:50:52 Loading ../data/mt_dnn/stsb_train.json as task 0\n",
      "Traceback (most recent call last):\n",
      "  File \"train.py\", line 353, in <module>\n",
      "    main()\n",
      "  File \"train.py\", line 181, in main\n",
      "    train_data = BatchGen(BatchGen.load(train_path, True, pairwise=pw_task, maxlen=args.max_seq_len),\n",
      "  File \"/home/jupyter/mt-dnn/mt_dnn/batcher.py\", line 52, in load\n",
      "    with open(path, 'r', encoding='utf-8') as reader:\n",
      "FileNotFoundError: [Errno 2] No such file or directory: '../data/mt_dnn/stsb_train.json'\n"
     ]
    }
   ],
   "source": [
    "!sh scripts/run_stsb.sh 32 0"
   ]
  }
 ],
 "metadata": {
  "kernelspec": {
   "display_name": "Python 3",
   "language": "python",
   "name": "python3"
  },
  "language_info": {
   "codemirror_mode": {
    "name": "ipython",
    "version": 3
   },
   "file_extension": ".py",
   "mimetype": "text/x-python",
   "name": "python",
   "nbconvert_exporter": "python",
   "pygments_lexer": "ipython3",
   "version": "3.7.3"
  }
 },
 "nbformat": 4,
 "nbformat_minor": 2
}
